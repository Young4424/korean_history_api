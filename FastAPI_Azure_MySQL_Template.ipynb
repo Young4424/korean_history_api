{
 "cells": [
  {
   "cell_type": "code",
   "execution_count": 2,
   "metadata": {},
   "outputs": [
    {
     "name": "stdout",
     "output_type": "stream",
     "text": [
      "Requirement already satisfied: fastapi in c:\\users\\el0019\\.pyenv\\pyenv-win\\versions\\3.12.9\\lib\\site-packages (0.115.12)\n",
      "Requirement already satisfied: uvicorn in c:\\users\\el0019\\.pyenv\\pyenv-win\\versions\\3.12.9\\lib\\site-packages (0.34.0)\n",
      "Requirement already satisfied: nest_asyncio in c:\\users\\el0019\\.pyenv\\pyenv-win\\versions\\3.12.9\\lib\\site-packages (1.6.0)\n",
      "Collecting mysql-connector-python\n",
      "  Downloading mysql_connector_python-9.2.0-cp312-cp312-win_amd64.whl.metadata (6.2 kB)\n",
      "Requirement already satisfied: python-multipart in c:\\users\\el0019\\.pyenv\\pyenv-win\\versions\\3.12.9\\lib\\site-packages (0.0.20)\n",
      "Requirement already satisfied: starlette<0.47.0,>=0.40.0 in c:\\users\\el0019\\.pyenv\\pyenv-win\\versions\\3.12.9\\lib\\site-packages (from fastapi) (0.46.1)\n",
      "Requirement already satisfied: pydantic!=1.8,!=1.8.1,!=2.0.0,!=2.0.1,!=2.1.0,<3.0.0,>=1.7.4 in c:\\users\\el0019\\.pyenv\\pyenv-win\\versions\\3.12.9\\lib\\site-packages (from fastapi) (2.10.6)\n",
      "Requirement already satisfied: typing-extensions>=4.8.0 in c:\\users\\el0019\\.pyenv\\pyenv-win\\versions\\3.12.9\\lib\\site-packages (from fastapi) (4.13.0)\n",
      "Requirement already satisfied: click>=7.0 in c:\\users\\el0019\\.pyenv\\pyenv-win\\versions\\3.12.9\\lib\\site-packages (from uvicorn) (8.1.8)\n",
      "Requirement already satisfied: h11>=0.8 in c:\\users\\el0019\\.pyenv\\pyenv-win\\versions\\3.12.9\\lib\\site-packages (from uvicorn) (0.14.0)\n",
      "Requirement already satisfied: colorama in c:\\users\\el0019\\.pyenv\\pyenv-win\\versions\\3.12.9\\lib\\site-packages (from click>=7.0->uvicorn) (0.4.6)\n",
      "Requirement already satisfied: annotated-types>=0.6.0 in c:\\users\\el0019\\.pyenv\\pyenv-win\\versions\\3.12.9\\lib\\site-packages (from pydantic!=1.8,!=1.8.1,!=2.0.0,!=2.0.1,!=2.1.0,<3.0.0,>=1.7.4->fastapi) (0.7.0)\n",
      "Requirement already satisfied: pydantic-core==2.27.2 in c:\\users\\el0019\\.pyenv\\pyenv-win\\versions\\3.12.9\\lib\\site-packages (from pydantic!=1.8,!=1.8.1,!=2.0.0,!=2.0.1,!=2.1.0,<3.0.0,>=1.7.4->fastapi) (2.27.2)\n",
      "Requirement already satisfied: anyio<5,>=3.6.2 in c:\\users\\el0019\\.pyenv\\pyenv-win\\versions\\3.12.9\\lib\\site-packages (from starlette<0.47.0,>=0.40.0->fastapi) (4.9.0)\n",
      "Requirement already satisfied: idna>=2.8 in c:\\users\\el0019\\.pyenv\\pyenv-win\\versions\\3.12.9\\lib\\site-packages (from anyio<5,>=3.6.2->starlette<0.47.0,>=0.40.0->fastapi) (3.10)\n",
      "Requirement already satisfied: sniffio>=1.1 in c:\\users\\el0019\\.pyenv\\pyenv-win\\versions\\3.12.9\\lib\\site-packages (from anyio<5,>=3.6.2->starlette<0.47.0,>=0.40.0->fastapi) (1.3.1)\n",
      "Downloading mysql_connector_python-9.2.0-cp312-cp312-win_amd64.whl (16.1 MB)\n",
      "   ---------------------------------------- 0.0/16.1 MB ? eta -:--:--\n",
      "   ------------- -------------------------- 5.5/16.1 MB 30.5 MB/s eta 0:00:01\n",
      "   ---------------- ----------------------- 6.6/16.1 MB 20.1 MB/s eta 0:00:01\n",
      "   --------------------------------- ------ 13.6/16.1 MB 22.0 MB/s eta 0:00:01\n",
      "   ---------------------------------------  16.0/16.1 MB 19.0 MB/s eta 0:00:01\n",
      "   ---------------------------------------- 16.1/16.1 MB 17.2 MB/s eta 0:00:00\n",
      "Installing collected packages: mysql-connector-python\n",
      "Successfully installed mysql-connector-python-9.2.0\n",
      "Note: you may need to restart the kernel to use updated packages.\n"
     ]
    },
    {
     "name": "stderr",
     "output_type": "stream",
     "text": [
      "\n",
      "[notice] A new release of pip is available: 24.3.1 -> 25.0.1\n",
      "[notice] To update, run: c:\\Users\\EL0019\\.pyenv\\pyenv-win\\versions\\3.12.9\\python.exe -m pip install --upgrade pip\n"
     ]
    }
   ],
   "source": [
    "# ✅ 필요한 라이브러리 설치\n",
    "%pip install fastapi uvicorn nest_asyncio mysql-connector-python python-multipart"
   ]
  },
  {
   "cell_type": "markdown",
   "id": "c2e37173",
   "metadata": {},
   "source": [
    "## Summary API 테스트"
   ]
  },
  {
   "cell_type": "code",
   "execution_count": 16,
   "metadata": {},
   "outputs": [
    {
     "name": "stdout",
     "output_type": "stream",
     "text": [
      "200\n",
      "{'status': 'saved'}\n"
     ]
    }
   ],
   "source": [
    "import requests\n",
    "\n",
    "res = requests.post(\"http://localhost:8000/save-summary\", data={\n",
    "    \"user_id\": 1,  # 이 ID가 반드시 users 테이블에 존재해야 함!\n",
    "    \"file_name\": \"test.pdf\",\n",
    "    \"summary\": \"요약 내용입니다\",\n",
    "    \"tts_audio_url\": \"https://blob.com/sample.mp3\",\n",
    "    \"voice_style\": \"여성 음성\",\n",
    "    \"speed\": \"1x\",\n",
    "    \"duration\": 3\n",
    "})\n",
    "\n",
    "print(res.status_code)\n",
    "print(res.json())\n"
   ]
  },
  {
   "cell_type": "markdown",
   "id": "e1363213",
   "metadata": {},
   "source": [
    "## 테스트"
   ]
  },
  {
   "cell_type": "code",
   "execution_count": 17,
   "id": "d726965b",
   "metadata": {},
   "outputs": [
    {
     "name": "stdout",
     "output_type": "stream",
     "text": [
      "200\n",
      "{'status': 'question saved'}\n"
     ]
    }
   ],
   "source": [
    "res = requests.post(\"http://localhost:8000/save-question\", data={\n",
    "    \"material_id\": 12,  # 방금 만든 데이터의 ID\n",
    "    \"question_text\": \"백제의 수도가 한성에서 웅진으로 옮겨진 이유는?\",\n",
    "    \"choice1\": \"신라와의 동맹\",\n",
    "    \"choice2\": \"고구려의 침입\",\n",
    "    \"choice3\": \"내부 반란\",\n",
    "    \"choice4\": \"일본과의 관계 악화\",\n",
    "    \"answer\": 2,\n",
    "    \"explanation\": \"475년 고구려 장수왕의 공격으로 수도 한성이 함락되어 웅진으로 천도함\"\n",
    "})\n",
    "\n",
    "print(res.status_code)\n",
    "print(res.json())\n"
   ]
  },
  {
   "cell_type": "markdown",
   "id": "bc0640c3",
   "metadata": {},
   "source": [
    "## 정답 저장 테스트"
   ]
  },
  {
   "cell_type": "code",
   "execution_count": 18,
   "id": "cbeecd40",
   "metadata": {},
   "outputs": [
    {
     "name": "stdout",
     "output_type": "stream",
     "text": [
      "200\n",
      "{'status': 'answer saved'}\n"
     ]
    }
   ],
   "source": [
    "import requests\n",
    "\n",
    "res = requests.post(\"http://localhost:8000/save-answer\", data={\n",
    "    \"user_id\": 1,\n",
    "    \"question_id\": 5,\n",
    "    \"user_choice\": 4,\n",
    "    \"is_correct\": False\n",
    "})\n",
    "\n",
    "print(res.status_code)\n",
    "print(res.json())\n"
   ]
  },
  {
   "cell_type": "markdown",
   "id": "bb3b72b6",
   "metadata": {},
   "source": [
    "## 오답노트 가져오기"
   ]
  },
  {
   "cell_type": "code",
   "execution_count": 20,
   "id": "d590f8ec",
   "metadata": {},
   "outputs": [
    {
     "name": "stdout",
     "output_type": "stream",
     "text": [
      "200\n",
      "{'wrong_answers': []}\n"
     ]
    }
   ],
   "source": [
    "res = requests.get(\"http://localhost:8000/get-wrong-answers\", params={\n",
    "    \"user_id\": 1\n",
    "})\n",
    "\n",
    "print(res.status_code)\n",
    "print(res.json())\n"
   ]
  },
  {
   "cell_type": "markdown",
   "id": "c7e62f35",
   "metadata": {},
   "source": [
    "### 오답 저장 기능 테스트"
   ]
  },
  {
   "cell_type": "code",
   "execution_count": 21,
   "id": "2fbb9259",
   "metadata": {},
   "outputs": [
    {
     "name": "stdout",
     "output_type": "stream",
     "text": [
      "📡 Status Code: 200\n",
      "📦 Response: {'status': 'wrong answer saved'}\n"
     ]
    }
   ],
   "source": [
    "import requests\n",
    "\n",
    "res = requests.post(\"http://localhost:8000/save_wrong_answer\", data={\n",
    "    \"user_id\": 1,\n",
    "    \"question_id\": 5,\n",
    "    \"user_choice\": 2\n",
    "})\n",
    "\n",
    "print(\"📡 Status Code:\", res.status_code)\n",
    "print(\"📦 Response:\", res.json())\n"
   ]
  },
  {
   "cell_type": "code",
   "execution_count": null,
   "id": "32c2669d",
   "metadata": {},
   "outputs": [],
   "source": []
  }
 ],
 "metadata": {
  "kernelspec": {
   "display_name": "Python 3",
   "language": "python",
   "name": "python3"
  },
  "language_info": {
   "codemirror_mode": {
    "name": "ipython",
    "version": 3
   },
   "file_extension": ".py",
   "mimetype": "text/x-python",
   "name": "python",
   "nbconvert_exporter": "python",
   "pygments_lexer": "ipython3",
   "version": "3.12.9"
  }
 },
 "nbformat": 4,
 "nbformat_minor": 5
}
